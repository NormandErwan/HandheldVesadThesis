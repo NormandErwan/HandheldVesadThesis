{
 "cells": [
  {
   "cell_type": "markdown",
   "metadata": {},
   "source": [
    "# Data analysis for the ISMAR article"
   ]
  },
  {
   "cell_type": "code",
   "execution_count": 2,
   "metadata": {},
   "outputs": [],
   "source": [
    "# See: http://ipython.readthedocs.io/en/stable/interactive/magics.html#magic-matplotlib\n",
    "%matplotlib inline\n",
    "\n",
    "import numpy as np\n",
    "import pandas as pd\n",
    "import seaborn as sns\n",
    "from matplotlib import pyplot as plt\n",
    "from statsmodels.formula.api import ols\n",
    "\n",
    "from ast import literal_eval\n",
    "from os import listdir\n",
    "from os.path import join"
   ]
  },
  {
   "cell_type": "markdown",
   "metadata": {},
   "source": [
    "Load the csv data files:"
   ]
  },
  {
   "cell_type": "code",
   "execution_count": 3,
   "metadata": {
    "scrolled": true
   },
   "outputs": [],
   "source": [
    "data_path = \"data/\"\n",
    "\n",
    "participants_filepath = join(data_path, \"participants.csv\")\n",
    "participants = pd.read_csv(participants_filepath)\n",
    "\n",
    "trials = []\n",
    "details = []\n",
    "for file in listdir(data_path):\n",
    "    filepath = join(data_path, file)\n",
    "    if file.endswith(\"trials.csv\"): # The trial files end with trials.csv\n",
    "        trials.append(pd.read_csv(filepath))\n",
    "    elif file.endswith(\"details.csv\"):\n",
    "        details.append(pd.read_csv(filepath))\n",
    "trials = pd.concat(trials, ignore_index=True)\n",
    "details = pd.concat(details, ignore_index=True)"
   ]
  },
  {
   "cell_type": "code",
   "execution_count": 19,
   "metadata": {},
   "outputs": [],
   "source": [
    "projected_index = details.loc[details.projected_index_active == True][['participant_id', 'date_time', 'projected_index_position_x', 'projected_index_position_y']]"
   ]
  }
 ],
 "metadata": {
  "kernelspec": {
   "display_name": "Python 3",
   "language": "python",
   "name": "python3"
  },
  "language_info": {
   "codemirror_mode": {
    "name": "ipython",
    "version": 3
   },
   "file_extension": ".py",
   "mimetype": "text/x-python",
   "name": "python",
   "nbconvert_exporter": "python",
   "pygments_lexer": "ipython3",
   "version": "3.6.3"
  }
 },
 "nbformat": 4,
 "nbformat_minor": 2
}
