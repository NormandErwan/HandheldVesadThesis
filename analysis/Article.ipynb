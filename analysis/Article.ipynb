{
 "cells": [
  {
   "cell_type": "markdown",
   "metadata": {},
   "source": [
    "# Data analysis for the ISMAR article"
   ]
  },
  {
   "cell_type": "code",
   "execution_count": 3,
   "metadata": {},
   "outputs": [],
   "source": [
    "%matplotlib inline\n",
    "\n",
    "import numpy as np\n",
    "import pandas as pd\n",
    "import seaborn as sns\n",
    "from matplotlib import pyplot as plt\n",
    "from statsmodels.formula.api import ols\n",
    "\n",
    "from ast import literal_eval\n",
    "from os import listdir\n",
    "from os.path import join"
   ]
  },
  {
   "cell_type": "markdown",
   "metadata": {},
   "source": [
    "Configurations:"
   ]
  },
  {
   "cell_type": "code",
   "execution_count": 261,
   "metadata": {},
   "outputs": [],
   "source": [
    "sns.set_style('darkgrid')\n",
    "blue, green, red = sns.color_palette()[0], sns.color_palette()[1], sns.color_palette()[2]"
   ]
  },
  {
   "cell_type": "markdown",
   "metadata": {},
   "source": [
    "Load the csv data files:"
   ]
  },
  {
   "cell_type": "code",
   "execution_count": 286,
   "metadata": {
    "scrolled": true
   },
   "outputs": [],
   "source": [
    "data_path = 'data/'\n",
    "\n",
    "# Participants information & trials\n",
    "participants = pd.read_csv(join(data_path, 'participants.csv'))\n",
    "trials = pd.read_csv(join(data_path, 'participants_trials.csv'))\n",
    "\n",
    "# Participants details\n",
    "details = []\n",
    "for file in listdir(data_path):\n",
    "    if file.endswith('details.csv'): # The trial files end with *-details.csv\n",
    "        details.append(pd.read_csv(join(data_path, file)))\n",
    "details = pd.concat(details, ignore_index=True)\n",
    "\n",
    "# Independent variables\n",
    "techniques = trials.drop_duplicates('technique_id').loc[:, ['technique_id', 'technique_name']].reset_index(drop=True)\n",
    "text_size = trials.drop_duplicates('text_size_id').loc[:, ['text_size_id', 'text_size_name']].reset_index(drop=True)\n",
    "distance = trials.drop_duplicates('distance_id').loc[:, ['distance_id', 'distance_name']].reset_index(drop=True)\n",
    "techniques.columns = text_size.columns = distance.columns = ['id', 'name']\n",
    "\n",
    "# Participants rates (from participants information)"
   ]
  },
  {
   "cell_type": "code",
   "execution_count": 312,
   "metadata": {
    "scrolled": true
   },
   "outputs": [
    {
     "name": "stdout",
     "output_type": "stream",
     "text": [
      "[0, 'M', True, False, False, '21-25', 'right', 'right', 'Augmented Reality Master Student', 9, '[video games, Unity 3D]', '[HoloLens, Oculus DK2, HTC Vive, Oculus Rift, Google Cardboard]', '[controllers, gaze, tap, leap]']\n",
      "[0]\n",
      "['M']\n",
      "[True]\n",
      "[False]\n",
      "[False]\n",
      "['21-25']\n",
      "['right']\n",
      "['right']\n",
      "['Augmented Reality Master Student']\n",
      "[9]\n",
      "['[video games, Unity 3D]']\n",
      "['[HoloLens, Oculus DK2, HTC Vive, Oculus Rift, Google Cardboard]']\n",
      "['[controllers, gaze, tap, leap]']\n",
      "[0]\n",
      "['[5,5,4]']\n",
      "['[3,5,4]']\n",
      "['[4,5,3]']\n",
      "['[3,5,3]']\n",
      "['[4,5,3]']\n",
      "['[3,5,2]']\n",
      "['[2,1,3]']\n"
     ]
    },
    {
     "data": {
      "text/plain": [
       "participant_id            None\n",
       "sex                       None\n",
       "glasses                   None\n",
       "contact_lenses            None\n",
       "color_blind               None\n",
       "age                       None\n",
       "dominant_hand             None\n",
       "mouse_hand                None\n",
       "activity                  None\n",
       "computer_hours_day        None\n",
       "softwares_3d              None\n",
       "hmd_used                  None\n",
       "hmd_interactions          None\n",
       "ordering                  None\n",
       "easy_understand           None\n",
       "mentally_easy_use         None\n",
       "physically_easy_use       None\n",
       "could_go_fast             None\n",
       "subjective_performance    None\n",
       "frustration               None\n",
       "preference                None\n",
       "dtype: object"
      ]
     },
     "execution_count": 312,
     "metadata": {},
     "output_type": "execute_result"
    }
   ],
   "source": [
    "print(participants.iloc[0][0:13].tolist())\n",
    "participants.apply(lambda participant: print(participant[0:1].tolist()))"
   ]
  },
  {
   "cell_type": "code",
   "execution_count": 321,
   "metadata": {},
   "outputs": [
    {
     "name": "stdout",
     "output_type": "stream",
     "text": [
      "   participant_id sex  glasses  contact_lenses  color_blind    age  \\\n",
      "0               0   M     True           False        False  21-25   \n",
      "1               0   M     True           False        False  21-25   \n",
      "2               0   M     True           False        False  21-25   \n",
      "3               1   F     True           False        False  46-50   \n",
      "4               1   F     True           False        False  46-50   \n",
      "\n",
      "  dominant_hand mouse_hand                          activity  \\\n",
      "0         right      right  Augmented Reality Master Student   \n",
      "1         right      right  Augmented Reality Master Student   \n",
      "2         right      right  Augmented Reality Master Student   \n",
      "3         right      right                   Project Manager   \n",
      "4         right      right                   Project Manager   \n",
      "\n",
      "   computer_hours_day    ...      \\\n",
      "0                   9    ...       \n",
      "1                   9    ...       \n",
      "2                   9    ...       \n",
      "3                   6    ...       \n",
      "4                   6    ...       \n",
      "\n",
      "                                            hmd_used  \\\n",
      "0  [HoloLens, Oculus DK2, HTC Vive, Oculus Rift, ...   \n",
      "1  [HoloLens, Oculus DK2, HTC Vive, Oculus Rift, ...   \n",
      "2  [HoloLens, Oculus DK2, HTC Vive, Oculus Rift, ...   \n",
      "3                                       [Oculus DK2]   \n",
      "4                                       [Oculus DK2]   \n",
      "\n",
      "                 hmd_interactions technique_id  easy_understand  \\\n",
      "0  [controllers, gaze, tap, leap]            1          [5,5,4]   \n",
      "1  [controllers, gaze, tap, leap]            2          [5,5,4]   \n",
      "2  [controllers, gaze, tap, leap]            3          [5,5,4]   \n",
      "3                          [gaze]            1          [5,5,5]   \n",
      "4                          [gaze]            2          [5,5,5]   \n",
      "\n",
      "  mentally_easy_use physically_easy_use could_go_fast subjective_performance  \\\n",
      "0           [3,5,4]             [4,5,3]       [3,5,3]                [4,5,3]   \n",
      "1           [3,5,4]             [4,5,3]       [3,5,3]                [4,5,3]   \n",
      "2           [3,5,4]             [4,5,3]       [3,5,3]                [4,5,3]   \n",
      "3           [2,4,4]             [3,3,2]       [2,4,3]                [2,3,2]   \n",
      "4           [2,4,4]             [3,3,2]       [2,4,3]                [2,3,2]   \n",
      "\n",
      "  frustration preference  \n",
      "0     [3,5,2]    [2,1,3]  \n",
      "1     [3,5,2]    [2,1,3]  \n",
      "2     [3,5,2]    [2,1,3]  \n",
      "3     [1,3,3]    [3,2,1]  \n",
      "4     [1,3,3]    [3,2,1]  \n",
      "\n",
      "[5 rows x 21 columns]\n"
     ]
    }
   ],
   "source": [
    "rates = []\n",
    "for index, participant in participants.iterrows():\n",
    "    for i in range(len(rate)):\n",
    "        technique_id= i+1\n",
    "        for rate_data in participant[14:21]\n",
    "            rate = literal_eval(participant[rate_label])\n",
    "            rates.append(participant[0:13].tolist() + [technique_id] + .tolist())\n",
    "rates = pd.DataFrame(rates, columns=participants.columns[0:13].tolist() + ['technique_id'] + participants.columns[14:21].tolist())\n",
    "\n",
    "print(rates.head())"
   ]
  },
  {
   "cell_type": "markdown",
   "metadata": {},
   "source": [
    "Analysis of rates of the participants:"
   ]
  },
  {
   "cell_type": "code",
   "execution_count": 285,
   "metadata": {},
   "outputs": [
    {
     "ename": "AssertionError",
     "evalue": "3 columns passed, passed data had 4 columns",
     "output_type": "error",
     "traceback": [
      "\u001b[1;31m---------------------------------------------------------------------------\u001b[0m",
      "\u001b[1;31mAssertionError\u001b[0m                            Traceback (most recent call last)",
      "\u001b[1;32m<ipython-input-285-c52a9108a7af>\u001b[0m in \u001b[0;36m<module>\u001b[1;34m()\u001b[0m\n\u001b[0;32m     14\u001b[0m     \u001b[1;32mreturn\u001b[0m \u001b[0mrates\u001b[0m\u001b[1;33m\u001b[0m\u001b[0m\n\u001b[0;32m     15\u001b[0m \u001b[1;33m\u001b[0m\u001b[0m\n\u001b[1;32m---> 16\u001b[1;33m \u001b[0mprint\u001b[0m\u001b[1;33m(\u001b[0m\u001b[0mgetParticipantsRates\u001b[0m\u001b[1;33m(\u001b[0m\u001b[1;34m'preference'\u001b[0m\u001b[1;33m,\u001b[0m \u001b[1;33m[\u001b[0m\u001b[1;34m'ordering'\u001b[0m\u001b[1;33m]\u001b[0m\u001b[1;33m)\u001b[0m\u001b[1;33m)\u001b[0m\u001b[1;33m\u001b[0m\u001b[0m\n\u001b[0m",
      "\u001b[1;32m<ipython-input-285-c52a9108a7af>\u001b[0m in \u001b[0;36mgetParticipantsRates\u001b[1;34m(rate_label, partipants_column_labels)\u001b[0m\n\u001b[0;32m     11\u001b[0m             \u001b[0mrates\u001b[0m\u001b[1;33m.\u001b[0m\u001b[0mappend\u001b[0m\u001b[1;33m(\u001b[0m\u001b[0mpartipant_columns\u001b[0m \u001b[1;33m+\u001b[0m \u001b[1;33m[\u001b[0m\u001b[0mtechnique_id\u001b[0m\u001b[1;33m,\u001b[0m \u001b[0mrate\u001b[0m\u001b[1;33m[\u001b[0m\u001b[0mi\u001b[0m\u001b[1;33m]\u001b[0m\u001b[1;33m]\u001b[0m\u001b[1;33m)\u001b[0m\u001b[1;33m\u001b[0m\u001b[0m\n\u001b[0;32m     12\u001b[0m \u001b[1;33m\u001b[0m\u001b[0m\n\u001b[1;32m---> 13\u001b[1;33m     \u001b[0mrates\u001b[0m \u001b[1;33m=\u001b[0m \u001b[0mpd\u001b[0m\u001b[1;33m.\u001b[0m\u001b[0mDataFrame\u001b[0m\u001b[1;33m(\u001b[0m\u001b[0mrates\u001b[0m\u001b[1;33m,\u001b[0m \u001b[0mcolumns\u001b[0m\u001b[1;33m=\u001b[0m\u001b[0mpartipants_column_labels\u001b[0m \u001b[1;33m+\u001b[0m \u001b[1;33m[\u001b[0m\u001b[1;34m'technique_id'\u001b[0m\u001b[1;33m,\u001b[0m \u001b[1;34m'rate'\u001b[0m\u001b[1;33m]\u001b[0m\u001b[1;33m)\u001b[0m\u001b[1;33m\u001b[0m\u001b[0m\n\u001b[0m\u001b[0;32m     14\u001b[0m     \u001b[1;32mreturn\u001b[0m \u001b[0mrates\u001b[0m\u001b[1;33m\u001b[0m\u001b[0m\n\u001b[0;32m     15\u001b[0m \u001b[1;33m\u001b[0m\u001b[0m\n",
      "\u001b[1;32m~\\Miniconda\\envs\\master-thesis\\lib\\site-packages\\pandas\\core\\frame.py\u001b[0m in \u001b[0;36m__init__\u001b[1;34m(self, data, index, columns, dtype, copy)\u001b[0m\n\u001b[0;32m    367\u001b[0m                     \u001b[1;32mif\u001b[0m \u001b[0mis_named_tuple\u001b[0m\u001b[1;33m(\u001b[0m\u001b[0mdata\u001b[0m\u001b[1;33m[\u001b[0m\u001b[1;36m0\u001b[0m\u001b[1;33m]\u001b[0m\u001b[1;33m)\u001b[0m \u001b[1;32mand\u001b[0m \u001b[0mcolumns\u001b[0m \u001b[1;32mis\u001b[0m \u001b[1;32mNone\u001b[0m\u001b[1;33m:\u001b[0m\u001b[1;33m\u001b[0m\u001b[0m\n\u001b[0;32m    368\u001b[0m                         \u001b[0mcolumns\u001b[0m \u001b[1;33m=\u001b[0m \u001b[0mdata\u001b[0m\u001b[1;33m[\u001b[0m\u001b[1;36m0\u001b[0m\u001b[1;33m]\u001b[0m\u001b[1;33m.\u001b[0m\u001b[0m_fields\u001b[0m\u001b[1;33m\u001b[0m\u001b[0m\n\u001b[1;32m--> 369\u001b[1;33m                     \u001b[0marrays\u001b[0m\u001b[1;33m,\u001b[0m \u001b[0mcolumns\u001b[0m \u001b[1;33m=\u001b[0m \u001b[0m_to_arrays\u001b[0m\u001b[1;33m(\u001b[0m\u001b[0mdata\u001b[0m\u001b[1;33m,\u001b[0m \u001b[0mcolumns\u001b[0m\u001b[1;33m,\u001b[0m \u001b[0mdtype\u001b[0m\u001b[1;33m=\u001b[0m\u001b[0mdtype\u001b[0m\u001b[1;33m)\u001b[0m\u001b[1;33m\u001b[0m\u001b[0m\n\u001b[0m\u001b[0;32m    370\u001b[0m                     \u001b[0mcolumns\u001b[0m \u001b[1;33m=\u001b[0m \u001b[0m_ensure_index\u001b[0m\u001b[1;33m(\u001b[0m\u001b[0mcolumns\u001b[0m\u001b[1;33m)\u001b[0m\u001b[1;33m\u001b[0m\u001b[0m\n\u001b[0;32m    371\u001b[0m \u001b[1;33m\u001b[0m\u001b[0m\n",
      "\u001b[1;32m~\\Miniconda\\envs\\master-thesis\\lib\\site-packages\\pandas\\core\\frame.py\u001b[0m in \u001b[0;36m_to_arrays\u001b[1;34m(data, columns, coerce_float, dtype)\u001b[0m\n\u001b[0;32m   6282\u001b[0m     \u001b[1;32mif\u001b[0m \u001b[0misinstance\u001b[0m\u001b[1;33m(\u001b[0m\u001b[0mdata\u001b[0m\u001b[1;33m[\u001b[0m\u001b[1;36m0\u001b[0m\u001b[1;33m]\u001b[0m\u001b[1;33m,\u001b[0m \u001b[1;33m(\u001b[0m\u001b[0mlist\u001b[0m\u001b[1;33m,\u001b[0m \u001b[0mtuple\u001b[0m\u001b[1;33m)\u001b[0m\u001b[1;33m)\u001b[0m\u001b[1;33m:\u001b[0m\u001b[1;33m\u001b[0m\u001b[0m\n\u001b[0;32m   6283\u001b[0m         return _list_to_arrays(data, columns, coerce_float=coerce_float,\n\u001b[1;32m-> 6284\u001b[1;33m                                dtype=dtype)\n\u001b[0m\u001b[0;32m   6285\u001b[0m     \u001b[1;32melif\u001b[0m \u001b[0misinstance\u001b[0m\u001b[1;33m(\u001b[0m\u001b[0mdata\u001b[0m\u001b[1;33m[\u001b[0m\u001b[1;36m0\u001b[0m\u001b[1;33m]\u001b[0m\u001b[1;33m,\u001b[0m \u001b[0mcollections\u001b[0m\u001b[1;33m.\u001b[0m\u001b[0mMapping\u001b[0m\u001b[1;33m)\u001b[0m\u001b[1;33m:\u001b[0m\u001b[1;33m\u001b[0m\u001b[0m\n\u001b[0;32m   6286\u001b[0m         return _list_of_dict_to_arrays(data, columns,\n",
      "\u001b[1;32m~\\Miniconda\\envs\\master-thesis\\lib\\site-packages\\pandas\\core\\frame.py\u001b[0m in \u001b[0;36m_list_to_arrays\u001b[1;34m(data, columns, coerce_float, dtype)\u001b[0m\n\u001b[0;32m   6361\u001b[0m         \u001b[0mcontent\u001b[0m \u001b[1;33m=\u001b[0m \u001b[0mlist\u001b[0m\u001b[1;33m(\u001b[0m\u001b[0mlib\u001b[0m\u001b[1;33m.\u001b[0m\u001b[0mto_object_array\u001b[0m\u001b[1;33m(\u001b[0m\u001b[0mdata\u001b[0m\u001b[1;33m)\u001b[0m\u001b[1;33m.\u001b[0m\u001b[0mT\u001b[0m\u001b[1;33m)\u001b[0m\u001b[1;33m\u001b[0m\u001b[0m\n\u001b[0;32m   6362\u001b[0m     return _convert_object_array(content, columns, dtype=dtype,\n\u001b[1;32m-> 6363\u001b[1;33m                                  coerce_float=coerce_float)\n\u001b[0m\u001b[0;32m   6364\u001b[0m \u001b[1;33m\u001b[0m\u001b[0m\n\u001b[0;32m   6365\u001b[0m \u001b[1;33m\u001b[0m\u001b[0m\n",
      "\u001b[1;32m~\\Miniconda\\envs\\master-thesis\\lib\\site-packages\\pandas\\core\\frame.py\u001b[0m in \u001b[0;36m_convert_object_array\u001b[1;34m(content, columns, coerce_float, dtype)\u001b[0m\n\u001b[0;32m   6418\u001b[0m             \u001b[1;31m# caller's responsibility to check for this...\u001b[0m\u001b[1;33m\u001b[0m\u001b[1;33m\u001b[0m\u001b[0m\n\u001b[0;32m   6419\u001b[0m             raise AssertionError('%d columns passed, passed data had %s '\n\u001b[1;32m-> 6420\u001b[1;33m                                  'columns' % (len(columns), len(content)))\n\u001b[0m\u001b[0;32m   6421\u001b[0m \u001b[1;33m\u001b[0m\u001b[0m\n\u001b[0;32m   6422\u001b[0m     \u001b[1;31m# provide soft conversion of object dtypes\u001b[0m\u001b[1;33m\u001b[0m\u001b[1;33m\u001b[0m\u001b[0m\n",
      "\u001b[1;31mAssertionError\u001b[0m: 3 columns passed, passed data had 4 columns"
     ]
    }
   ],
   "source": [
    "def getParticipantsRates(rate_label, partipants_column_labels=[]):\n",
    "    partipant_columns = []\n",
    "    for label in ['participant_id'] + partipants_column_labels:\n",
    "        partipant_columns.append(participants[label])\n",
    "    \n",
    "    rates = []\n",
    "    for index, participant in participants.iterrows():\n",
    "        rate = literal_eval(participant[rate_label])\n",
    "        for i in range(len(rate)):\n",
    "            technique_id= i+1\n",
    "            rates.append(partipant_columns + [technique_id, rate[i]])\n",
    "            \n",
    "    rates = pd.DataFrame(rates, columns=partipants_column_labels + ['technique_id', 'rate'])\n",
    "    return rates\n",
    "\n",
    "print(getParticipantsRates('preference', ['ordering']))"
   ]
  },
  {
   "cell_type": "code",
   "execution_count": 270,
   "metadata": {},
   "outputs": [
    {
     "ename": "TypeError",
     "evalue": "list indices must be integers or slices, not str",
     "output_type": "error",
     "traceback": [
      "\u001b[1;31m---------------------------------------------------------------------------\u001b[0m",
      "\u001b[1;31mTypeError\u001b[0m                                 Traceback (most recent call last)",
      "\u001b[1;32m<ipython-input-270-ef11f73c634f>\u001b[0m in \u001b[0;36m<module>\u001b[1;34m()\u001b[0m\n\u001b[1;32m----> 1\u001b[1;33m \u001b[0mpreferences\u001b[0m \u001b[1;33m=\u001b[0m \u001b[0mgetParticipantsRates\u001b[0m\u001b[1;33m(\u001b[0m\u001b[1;34m'preference'\u001b[0m\u001b[1;33m)\u001b[0m\u001b[1;33m\u001b[0m\u001b[0m\n\u001b[0m\u001b[0;32m      2\u001b[0m \u001b[1;31m#sns.factorplot(x='rate', col='technique_id', row='ordering', data=preferences, kind='count', palette='RdBu_r');\u001b[0m\u001b[1;33m\u001b[0m\u001b[1;33m\u001b[0m\u001b[0m\n",
      "\u001b[1;32m<ipython-input-269-ccc494112f58>\u001b[0m in \u001b[0;36mgetParticipantsRates\u001b[1;34m(rate_label, partipants_column_labels)\u001b[0m\n\u001b[0;32m      2\u001b[0m     \u001b[0mpartipants_columns\u001b[0m \u001b[1;33m=\u001b[0m \u001b[1;33m[\u001b[0m\u001b[1;33m]\u001b[0m\u001b[1;33m\u001b[0m\u001b[0m\n\u001b[0;32m      3\u001b[0m     \u001b[1;32mfor\u001b[0m \u001b[0mlabel\u001b[0m \u001b[1;32min\u001b[0m \u001b[1;33m[\u001b[0m\u001b[1;34m'participant_id'\u001b[0m\u001b[1;33m]\u001b[0m \u001b[1;33m+\u001b[0m \u001b[0mpartipants_column_labels\u001b[0m\u001b[1;33m:\u001b[0m\u001b[1;33m\u001b[0m\u001b[0m\n\u001b[1;32m----> 4\u001b[1;33m         \u001b[0mpartipants_columns\u001b[0m\u001b[1;33m[\u001b[0m\u001b[0mlabel\u001b[0m\u001b[1;33m]\u001b[0m\u001b[1;33m\u001b[0m\u001b[0m\n\u001b[0m\u001b[0;32m      5\u001b[0m \u001b[1;33m\u001b[0m\u001b[0m\n\u001b[0;32m      6\u001b[0m     \u001b[0mrates\u001b[0m \u001b[1;33m=\u001b[0m \u001b[1;33m[\u001b[0m\u001b[1;33m]\u001b[0m\u001b[1;33m\u001b[0m\u001b[0m\n",
      "\u001b[1;31mTypeError\u001b[0m: list indices must be integers or slices, not str"
     ]
    }
   ],
   "source": [
    "preferences = getParticipantsRates('preference')\n",
    "#sns.factorplot(x='rate', col='technique_id', row='ordering', data=preferences, kind='count', palette='RdBu_r');"
   ]
  },
  {
   "cell_type": "code",
   "execution_count": 265,
   "metadata": {
    "scrolled": true
   },
   "outputs": [
    {
     "data": {
      "image/png": "[encoded data removed]",
      "text/plain": [
       "<matplotlib.figure.Figure at 0x28d18790748>"
      ]
     },
     "metadata": {},
     "output_type": "display_data"
    }
   ],
   "source": [
    "for rate_label in ['frustration']:\n",
    "    rates = getParticipantsRates(rate_label)\n",
    "    sns.factorplot(x='rate', col='technique_id', data=rates, kind='count', palette='RdBu');"
   ]
  }
 ],
 "metadata": {
  "kernelspec": {
   "display_name": "Python 3",
   "language": "python",
   "name": "python3"
  },
  "language_info": {
   "codemirror_mode": {
    "name": "ipython",
    "version": 3
   },
   "file_extension": ".py",
   "mimetype": "text/x-python",
   "name": "python",
   "nbconvert_exporter": "python",
   "pygments_lexer": "ipython3",
   "version": "3.6.3"
  }
 },
 "nbformat": 4,
 "nbformat_minor": 2
}
