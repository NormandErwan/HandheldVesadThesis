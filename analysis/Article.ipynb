{
 "cells": [
  {
   "cell_type": "markdown",
   "metadata": {},
   "source": [
    "# Data analysis for the ISMAR article"
   ]
  },
  {
   "cell_type": "code",
   "execution_count": 9,
   "metadata": {},
   "outputs": [],
   "source": [
    "# See: http://ipython.readthedocs.io/en/stable/interactive/magics.html#magic-matplotlib\n",
    "%matplotlib inline\n",
    "\n",
    "import numpy as np\n",
    "import pandas as pd\n",
    "from matplotlib import pyplot as plt\n",
    "\n",
    "from os import listdir, walk\n",
    "from os.path import isfile, join"
   ]
  },
  {
   "cell_type": "code",
   "execution_count": 46,
   "metadata": {
    "scrolled": true
   },
   "outputs": [],
   "source": [
    "# Load the csv data files\n",
    "\n",
    "data_path = \"data/\"\n",
    "\n",
    "participants = pd.read_csv(join(data_path, \"participants.csv\"))\n",
    "\n",
    "logs = []\n",
    "for file in listdir(data_path):\n",
    "    file_path = join(data_path, file)\n",
    "    if isfile(file_path) and file.endswith(\".csv\"):\n",
    "        csv = pd.read_csv(file_path)\n",
    "        logs.append(csv)\n",
    "\n",
    "# Uncoment to visualize the differents arrays\n",
    "#participants\n",
    "#logs[0]"
   ]
  },
  {
   "cell_type": "code",
   "execution_count": null,
   "metadata": {},
   "outputs": [],
   "source": [
    "# See to help with analysis: http://www.scipy-lectures.org/packages/statistics/index.html#statistics"
   ]
  }
 ],
 "metadata": {
  "kernelspec": {
   "display_name": "Python 3",
   "language": "python",
   "name": "python3"
  },
  "language_info": {
   "codemirror_mode": {
    "name": "ipython",
    "version": 3
   },
   "file_extension": ".py",
   "mimetype": "text/x-python",
   "name": "python",
   "nbconvert_exporter": "python",
   "pygments_lexer": "ipython3",
   "version": "3.6.3"
  }
 },
 "nbformat": 4,
 "nbformat_minor": 2
}
