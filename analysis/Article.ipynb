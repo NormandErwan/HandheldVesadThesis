{
 "cells": [
  {
   "cell_type": "markdown",
   "metadata": {},
   "source": [
    "# Data analysis for the ISMAR article"
   ]
  },
  {
   "cell_type": "code",
   "execution_count": 53,
   "metadata": {},
   "outputs": [],
   "source": [
    "# See: http://ipython.readthedocs.io/en/stable/interactive/magics.html#magic-matplotlib\n",
    "%matplotlib inline\n",
    "\n",
    "import numpy as np\n",
    "import pandas as pd\n",
    "from matplotlib import pyplot as plt\n",
    "\n",
    "from ast import literal_eval\n",
    "from os import listdirt\n",
    "from os.path import join"
   ]
  },
  {
   "cell_type": "code",
   "execution_count": 64,
   "metadata": {
    "scrolled": true
   },
   "outputs": [
    {
     "name": "stdout",
     "output_type": "stream",
     "text": [
      "[[9, 9, 9, 9, 9], [13, 13, 13, 13, 13], [14, 14, 14, 14, 14], [10, 10, 10, 10, 10], [8, 8, 8, 8, 8]]\n"
     ]
    },
    {
     "data": {
      "text/html": [
       "<div>\n",
       "<style scoped>\n",
       "    .dataframe tbody tr th:only-of-type {\n",
       "        vertical-align: middle;\n",
       "    }\n",
       "\n",
       "    .dataframe tbody tr th {\n",
       "        vertical-align: top;\n",
       "    }\n",
       "\n",
       "    .dataframe thead th {\n",
       "        text-align: right;\n",
       "    }\n",
       "</style>\n",
       "<table border=\"1\" class=\"dataframe\">\n",
       "  <thead>\n",
       "    <tr style=\"text-align: right;\">\n",
       "      <th></th>\n",
       "      <th>participantId</th>\n",
       "      <th>sex</th>\n",
       "      <th>rightHanded</th>\n",
       "      <th>test</th>\n",
       "      <th>grid_config</th>\n",
       "    </tr>\n",
       "  </thead>\n",
       "  <tbody>\n",
       "    <tr>\n",
       "      <th>0</th>\n",
       "      <td>0</td>\n",
       "      <td>M</td>\n",
       "      <td>True</td>\n",
       "      <td>(1,2,3)</td>\n",
       "      <td>[[[9, 9, 9, 9, 9], [13, 13, 13, 13, 13], [14, ...</td>\n",
       "    </tr>\n",
       "    <tr>\n",
       "      <th>1</th>\n",
       "      <td>1</td>\n",
       "      <td>F</td>\n",
       "      <td>False</td>\n",
       "      <td>(4,3,1)</td>\n",
       "      <td>NaN</td>\n",
       "    </tr>\n",
       "  </tbody>\n",
       "</table>\n",
       "</div>"
      ],
      "text/plain": [
       "   participantId sex  rightHanded     test  \\\n",
       "0              0   M         True  (1,2,3)   \n",
       "1              1   F        False  (4,3,1)   \n",
       "\n",
       "                                         grid_config  \n",
       "0  [[[9, 9, 9, 9, 9], [13, 13, 13, 13, 13], [14, ...  \n",
       "1                                                NaN  "
      ]
     },
     "execution_count": 64,
     "metadata": {},
     "output_type": "execute_result"
    }
   ],
   "source": [
    "# Load the csv data files\n",
    "\n",
    "data_path = \"data/\"\n",
    "\n",
    "participants = pd.read_csv(join(data_path, \"participants.csv\"))\n",
    "\n",
    "trials = []\n",
    "for file in listdir(data_path):\n",
    "    file_path = join(data_path, file)\n",
    "    if file.endswith(\"trials.csv\"):\n",
    "        participant_trials = pd.read_csv(file_path)\n",
    "        trials.append(participant_trials)\n",
    "\n",
    "# Uncoment to visualize the differents arrays\n",
    "#participants\n",
    "#logs[0]"
   ]
  },
  {
   "cell_type": "code",
   "execution_count": 1,
   "metadata": {},
   "outputs": [],
   "source": [
    "# See to help with analysis: http://www.scipy-lectures.org/packages/statistics/index.html#statistics"
   ]
  }
 ],
 "metadata": {
  "kernelspec": {
   "display_name": "Python 3",
   "language": "python",
   "name": "python3"
  },
  "language_info": {
   "codemirror_mode": {
    "name": "ipython",
    "version": 3
   },
   "file_extension": ".py",
   "mimetype": "text/x-python",
   "name": "python",
   "nbconvert_exporter": "python",
   "pygments_lexer": "ipython3",
   "version": "3.6.3"
  }
 },
 "nbformat": 4,
 "nbformat_minor": 2
}
